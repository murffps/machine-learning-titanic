{
  "nbformat": 4,
  "nbformat_minor": 0,
  "metadata": {
    "colab": {
      "provenance": [],
      "authorship_tag": "ABX9TyOXQ/ycvFz1I4LEMkZSSjLg",
      "include_colab_link": true
    },
    "kernelspec": {
      "name": "python3",
      "display_name": "Python 3"
    },
    "language_info": {
      "name": "python"
    }
  },
  "cells": [
    {
      "cell_type": "markdown",
      "metadata": {
        "id": "view-in-github",
        "colab_type": "text"
      },
      "source": [
        "<a href=\"https://colab.research.google.com/github/murffps/machine-learning-titanic/blob/main/linear_algebra.ipynb\" target=\"_parent\"><img src=\"https://colab.research.google.com/assets/colab-badge.svg\" alt=\"Open In Colab\"/></a>"
      ]
    },
    {
      "cell_type": "code",
      "source": [
        "import numpy as np"
      ],
      "metadata": {
        "id": "Iuca4luCZFXu"
      },
      "execution_count": null,
      "outputs": []
    },
    {
      "cell_type": "code",
      "execution_count": null,
      "metadata": {
        "id": "4OgRUNZ2Ytkw"
      },
      "outputs": [],
      "source": [
        "# 3 ways to create a vector\n",
        "asArray=np([1,2,3]) #1D array\n",
        "rowVec=np([[1,2,3]]) #row\n",
        "colVec=np([1],[2],[3]) #col"
      ]
    },
    {
      "cell_type": "markdown",
      "source": [
        "#NOTES\n",
        "Technical Terms\n",
        "https://www.tutorialspoint.com/google_colab/google_colab_documenting_code.htm notation\n",
        "\n",
        "dimentiality - the number of numbers in the vector\n",
        "orientation (also asArray = orientationless) - vector is in column or row asssume column most the time unless noted\n",
        "constraints\n",
        "transpose W^T or transpose transforms a column vec into a row\n",
        "\n",
        "\n"
      ],
      "metadata": {
        "id": "jJCMbePEe3uE"
      }
    }
  ]
}